{
 "cells": [
  {
   "cell_type": "markdown",
   "metadata": {},
   "source": [
    "# WeatherPy\n",
    "----\n",
    "\n",
    "#### Note\n",
    "* Instructions have been included for each segment. You do not have to follow them exactly, but they are included to help you think through the steps."
   ]
  },
  {
   "cell_type": "code",
   "execution_count": 5,
   "metadata": {
    "scrolled": true
   },
   "outputs": [],
   "source": [
    "# Dependencies and Setup\n",
    "import matplotlib.pyplot as plt\n",
    "import pandas as pd\n",
    "import numpy as np\n",
    "import requests\n",
    "import time\n",
    "from scipy.stats import linregress\n",
    "\n",
    "# Import API key\n",
    "from api_keys import weather_api_key\n",
    "\n",
    "# Incorporated citipy to determine city based on latitude and longitude\n",
    "from citipy import citipy\n",
    "\n",
    "# Output File (CSV)\n",
    "output_path = \"../output_data/cities.csv\"\n",
    "\n",
    "# Range of latitudes and longitudes\n",
    "lat_range = (-90, 90)\n",
    "lng_range = (-180, 180)"
   ]
  },
  {
   "cell_type": "markdown",
   "metadata": {},
   "source": [
    "## Generate Cities List"
   ]
  },
  {
   "cell_type": "code",
   "execution_count": 6,
   "metadata": {},
   "outputs": [
    {
     "data": {
      "text/plain": [
       "632"
      ]
     },
     "execution_count": 6,
     "metadata": {},
     "output_type": "execute_result"
    }
   ],
   "source": [
    "# List for holding lat_lngs and cities\n",
    "lat_lngs = []\n",
    "cities = []\n",
    "\n",
    "# Create a set of random lat and lng combinations\n",
    "lats = np.random.uniform(lat_range[0], lat_range[1], size=1500)\n",
    "lngs = np.random.uniform(lng_range[0], lng_range[1], size=1500)\n",
    "lat_lngs = zip(lats, lngs)\n",
    "\n",
    "# Identify nearest city for each lat, lng combination\n",
    "for lat_lng in lat_lngs:\n",
    "    city = citipy.nearest_city(lat_lng[0], lat_lng[1]).city_name\n",
    "    \n",
    "    # If the city is unique, then add it to a our cities list\n",
    "    if city not in cities:\n",
    "        cities.append(city)\n",
    "\n",
    "# Print the city count to confirm sufficient count\n",
    "len(cities)"
   ]
  },
  {
   "cell_type": "markdown",
   "metadata": {},
   "source": [
    "### Perform API Calls\n",
    "* Perform a weather check on each city using a series of successive API calls.\n",
    "* Include a print log of each city as it'sbeing processed (with the city number and city name).\n"
   ]
  },
  {
   "cell_type": "code",
   "execution_count": 7,
   "metadata": {
    "scrolled": true
   },
   "outputs": [
    {
     "name": "stdout",
     "output_type": "stream",
     "text": [
      "Processing Record | goure\n",
      "Processing Record | kurchum\n",
      "Processing Record | hermanus\n",
      "Processing Record | kavieng\n",
      "Processing Record | bacungan\n",
      "Processing Record | ushuaia\n",
      "Processing Record | taolanaro\n",
      "City not found, Skipping...\n",
      "Processing Record | rikitea\n",
      "Processing Record | vaini\n",
      "Processing Record | tocopilla\n",
      "Processing Record | mataura\n",
      "Processing Record | pevek\n",
      "Processing Record | tarakan\n",
      "Processing Record | plettenberg bay\n",
      "Processing Record | zatoka\n",
      "Processing Record | hilo\n",
      "Processing Record | yellowknife\n",
      "Processing Record | birjand\n",
      "Processing Record | kijang\n",
      "Processing Record | bethel\n",
      "Processing Record | talah\n",
      "City not found, Skipping...\n",
      "Processing Record | grand river south east\n",
      "City not found, Skipping...\n",
      "Processing Record | bilibino\n",
      "Processing Record | xuddur\n",
      "Processing Record | fort nelson\n",
      "Processing Record | vangaindrano\n",
      "Processing Record | biloela\n",
      "Processing Record | tufanganj\n",
      "Processing Record | nikolskoye\n",
      "Processing Record | byron bay\n",
      "Processing Record | chilmari\n",
      "Processing Record | hobart\n",
      "Processing Record | savannah bight\n",
      "Processing Record | georgetown\n",
      "Processing Record | tiksi\n",
      "Processing Record | sinnamary\n",
      "Processing Record | catabola\n",
      "Processing Record | castro\n",
      "Processing Record | sokolovyy\n",
      "Processing Record | nanortalik\n",
      "Processing Record | puerto escondido\n",
      "Processing Record | bluff\n",
      "Processing Record | saleaula\n",
      "City not found, Skipping...\n",
      "Processing Record | caravelas\n",
      "Processing Record | huazolotitlan\n",
      "City not found, Skipping...\n",
      "Processing Record | skibbereen\n",
      "Processing Record | huaura\n",
      "Processing Record | arraial do cabo\n",
      "Processing Record | iisalmi\n",
      "Processing Record | punta arenas\n",
      "Processing Record | kyshtovka\n",
      "Processing Record | gulshat\n",
      "City not found, Skipping...\n",
      "Processing Record | oranjestad\n",
      "Processing Record | ahipara\n",
      "Processing Record | dikson\n",
      "Processing Record | saint-pierre\n",
      "Processing Record | deputatskiy\n",
      "Processing Record | busselton\n",
      "Processing Record | union\n",
      "Processing Record | tual\n",
      "Processing Record | mar del plata\n",
      "Processing Record | brae\n",
      "Processing Record | bredasdorp\n",
      "Processing Record | attawapiskat\n",
      "City not found, Skipping...\n",
      "Processing Record | kamina\n",
      "Processing Record | puerto ayora\n",
      "Processing Record | albany\n",
      "Processing Record | necochea\n",
      "Processing Record | provideniya\n",
      "Processing Record | geraldton\n",
      "Processing Record | higuey\n",
      "City not found, Skipping...\n",
      "Processing Record | mys shmidta\n",
      "City not found, Skipping...\n",
      "Processing Record | salalah\n",
      "Processing Record | new norfolk\n",
      "Processing Record | padang\n",
      "Processing Record | barrow\n",
      "Processing Record | bambanglipuro\n",
      "Processing Record | tasiilaq\n",
      "Processing Record | okhotsk\n",
      "Processing Record | tasbuget\n",
      "City not found, Skipping...\n",
      "Processing Record | sentyabrskiy\n",
      "City not found, Skipping...\n",
      "Processing Record | finale ligure\n",
      "Processing Record | flin flon\n",
      "Processing Record | bud\n",
      "Processing Record | belushya guba\n",
      "City not found, Skipping...\n",
      "Processing Record | laguna\n",
      "Processing Record | mahebourg\n",
      "Processing Record | uruzgan\n",
      "Processing Record | aykhal\n",
      "Processing Record | lincoln\n",
      "Processing Record | nizhniy kuranakh\n",
      "Processing Record | stornoway\n",
      "Processing Record | makakilo city\n",
      "Processing Record | novikovo\n",
      "Processing Record | csaszartoltes\n",
      "Processing Record | kodiak\n",
      "Processing Record | fortuna\n",
      "Processing Record | illoqqortoormiut\n",
      "City not found, Skipping...\n",
      "Processing Record | potgietersrus\n",
      "City not found, Skipping...\n",
      "Processing Record | mahina\n",
      "Processing Record | qaqortoq\n",
      "Processing Record | mount isa\n",
      "Processing Record | sur\n",
      "Processing Record | luderitz\n",
      "Processing Record | lebu\n",
      "Processing Record | urengoy\n",
      "Processing Record | akdepe\n",
      "Processing Record | saskylakh\n",
      "Processing Record | saint-joseph\n",
      "Processing Record | groningen\n",
      "Processing Record | husavik\n",
      "Processing Record | khed brahma\n",
      "Processing Record | atuona\n",
      "Processing Record | los llanos de aridane\n",
      "Processing Record | la romana\n",
      "Processing Record | mushie\n",
      "Processing Record | khatanga\n",
      "Processing Record | acapulco\n",
      "Processing Record | kieta\n",
      "Processing Record | qaanaaq\n",
      "Processing Record | ostrovnoy\n",
      "Processing Record | nelson bay\n",
      "Processing Record | oxford\n",
      "Processing Record | kahului\n",
      "Processing Record | cozumel\n",
      "Processing Record | grindavik\n",
      "Processing Record | kargil\n",
      "Processing Record | saint george\n",
      "Processing Record | hithadhoo\n",
      "Processing Record | colares\n",
      "Processing Record | aguada de pasajeros\n",
      "Processing Record | baoqing\n",
      "Processing Record | tuktoyaktuk\n",
      "Processing Record | cuauhtemoc\n",
      "Processing Record | cape town\n",
      "Processing Record | asau\n",
      "Processing Record | pontes e lacerda\n",
      "Processing Record | ilulissat\n",
      "Processing Record | san javier\n",
      "Processing Record | touros\n",
      "Processing Record | daxian\n",
      "City not found, Skipping...\n",
      "Processing Record | adrar\n",
      "Processing Record | port moresby\n",
      "Processing Record | calama\n",
      "Processing Record | kungurtug\n",
      "Processing Record | axim\n",
      "Processing Record | thompson\n",
      "Processing Record | dhidhdhoo\n",
      "Processing Record | tungkang\n",
      "City not found, Skipping...\n",
      "Processing Record | port alfred\n",
      "Processing Record | tilichiki\n",
      "Processing Record | coahuayana\n",
      "Processing Record | upernavik\n",
      "Processing Record | kutum\n",
      "Processing Record | aklavik\n",
      "Processing Record | tuggurt\n",
      "City not found, Skipping...\n",
      "Processing Record | kuryk\n",
      "Processing Record | nouadhibou\n",
      "Processing Record | mentok\n",
      "City not found, Skipping...\n",
      "Processing Record | airai\n",
      "Processing Record | bathsheba\n",
      "Processing Record | wahran\n",
      "City not found, Skipping...\n",
      "Processing Record | olafsvik\n",
      "Processing Record | genhe\n",
      "Processing Record | bara\n",
      "Processing Record | sri aman\n",
      "Processing Record | praia da vitoria\n",
      "Processing Record | karsun\n",
      "Processing Record | saint-philippe\n",
      "Processing Record | saint anthony\n",
      "Processing Record | ranong\n",
      "Processing Record | port blair\n",
      "Processing Record | lata\n",
      "Processing Record | preobrazheniye\n",
      "Processing Record | nador\n",
      "Processing Record | kapaa\n",
      "Processing Record | changping\n",
      "Processing Record | okha\n",
      "Processing Record | eyl\n",
      "Processing Record | amderma\n",
      "City not found, Skipping...\n",
      "Processing Record | khatassy\n",
      "Processing Record | san quintin\n",
      "Processing Record | korla\n",
      "Processing Record | keti bandar\n",
      "Processing Record | gat\n",
      "Processing Record | ayan\n",
      "Processing Record | avera\n",
      "Processing Record | fairbanks\n",
      "Processing Record | kolondieba\n",
      "Processing Record | cayenne\n",
      "Processing Record | lomas de sargentillo\n",
      "Processing Record | umm lajj\n",
      "Processing Record | chapadinha\n",
      "Processing Record | dourdan\n",
      "Processing Record | quang ngai\n",
      "Processing Record | klaksvik\n",
      "Processing Record | vila\n",
      "Processing Record | butaritari\n",
      "Processing Record | la ronge\n",
      "Processing Record | grand-lahou\n",
      "Processing Record | hovd\n",
      "Processing Record | port elizabeth\n",
      "Processing Record | twin falls\n",
      "Processing Record | gwadar\n",
      "Processing Record | baker city\n",
      "Processing Record | vilyuysk\n",
      "Processing Record | kishtwar\n",
      "Processing Record | vaitupu\n",
      "City not found, Skipping...\n",
      "Processing Record | lorengau\n",
      "Processing Record | kozlovo\n",
      "Processing Record | cap malheureux\n",
      "Processing Record | chuy\n",
      "Processing Record | samusu\n",
      "City not found, Skipping...\n",
      "Processing Record | channel-port aux basques\n",
      "Processing Record | pemba\n",
      "Processing Record | ponta do sol\n",
      "Processing Record | ribeira grande\n",
      "Processing Record | palabuhanratu\n",
      "City not found, Skipping...\n",
      "Processing Record | camacha\n",
      "Processing Record | avarua\n",
      "Processing Record | nizhneyansk\n",
      "City not found, Skipping...\n",
      "Processing Record | muravlenko\n",
      "Processing Record | namatanai\n",
      "Processing Record | san andres\n",
      "Processing Record | haines junction\n",
      "Processing Record | daru\n",
      "Processing Record | hayden\n",
      "Processing Record | wadi musa\n",
      "Processing Record | burica\n",
      "City not found, Skipping...\n",
      "Processing Record | joshimath\n",
      "Processing Record | fria\n",
      "Processing Record | coolum beach\n",
      "Processing Record | chagda\n",
      "City not found, Skipping...\n",
      "Processing Record | uspenka\n",
      "Processing Record | roros\n",
      "Processing Record | aasiaat\n",
      "Processing Record | san jose\n",
      "Processing Record | oranjemund\n",
      "Processing Record | hasaki\n",
      "Processing Record | mirador\n",
      "Processing Record | khonuu\n",
      "City not found, Skipping...\n",
      "Processing Record | sobolevo\n",
      "Processing Record | vao\n",
      "Processing Record | soddy-daisy\n",
      "Processing Record | ust-nera\n",
      "Processing Record | puro\n",
      "Processing Record | tatawin\n",
      "Processing Record | betioky\n",
      "Processing Record | karamea\n",
      "City not found, Skipping...\n",
      "Processing Record | boende\n",
      "Processing Record | solnechnyy\n",
      "Processing Record | atar\n"
     ]
    },
    {
     "name": "stdout",
     "output_type": "stream",
     "text": [
      "Processing Record | saint-augustin\n",
      "Processing Record | namibe\n",
      "Processing Record | aden\n",
      "Processing Record | omagari\n",
      "Processing Record | narsaq\n",
      "Processing Record | barentsburg\n",
      "City not found, Skipping...\n",
      "Processing Record | nampula\n",
      "Processing Record | pangai\n",
      "Processing Record | bambous virieux\n",
      "Processing Record | kalmunai\n",
      "Processing Record | te anau\n",
      "Processing Record | cabo san lucas\n",
      "Processing Record | nueva italia\n",
      "Processing Record | anadyr\n",
      "Processing Record | victor harbor\n",
      "Processing Record | teahupoo\n",
      "Processing Record | magiresti\n",
      "Processing Record | guerrero negro\n",
      "Processing Record | avenal\n",
      "Processing Record | yar-sale\n",
      "Processing Record | gladstone\n",
      "Processing Record | broome\n",
      "Processing Record | the hague\n",
      "Processing Record | bushehr\n",
      "Processing Record | tarudant\n",
      "City not found, Skipping...\n",
      "Processing Record | syamzha\n",
      "Processing Record | kovvur\n",
      "Processing Record | zhanaozen\n",
      "Processing Record | seoul\n",
      "Processing Record | bennettsville\n",
      "Processing Record | tsihombe\n",
      "City not found, Skipping...\n",
      "Processing Record | watsa\n",
      "Processing Record | sing buri\n",
      "Processing Record | payo\n",
      "Processing Record | garden city\n",
      "Processing Record | chokurdakh\n",
      "Processing Record | bur gabo\n",
      "City not found, Skipping...\n",
      "Processing Record | longyearbyen\n",
      "Processing Record | yaan\n",
      "Processing Record | sompeta\n",
      "Processing Record | thunder bay\n",
      "Processing Record | weiser\n",
      "Processing Record | kamyshla\n",
      "Processing Record | rio gallegos\n",
      "Processing Record | hualmay\n",
      "Processing Record | carnarvon\n",
      "Processing Record | palmer\n",
      "Processing Record | mahadday weyne\n",
      "City not found, Skipping...\n",
      "Processing Record | gijon\n",
      "Processing Record | severo-kurilsk\n",
      "Processing Record | sainte-marie\n",
      "Processing Record | chadiza\n",
      "Processing Record | tautira\n",
      "Processing Record | muroto\n",
      "Processing Record | east london\n",
      "Processing Record | kariba\n",
      "Processing Record | havre\n",
      "Processing Record | san rafael\n",
      "Processing Record | krasnoselkup\n",
      "Processing Record | presidente medici\n",
      "Processing Record | otradnoye\n",
      "Processing Record | bahia honda\n",
      "Processing Record | san patricio\n",
      "Processing Record | souillac\n",
      "Processing Record | yumen\n",
      "Processing Record | quatre cocos\n",
      "Processing Record | panama city\n",
      "Processing Record | esperance\n",
      "Processing Record | constitucion\n",
      "Processing Record | lasa\n",
      "Processing Record | selizharovo\n",
      "Processing Record | nanchital\n",
      "Processing Record | livingston\n",
      "Processing Record | benguela\n",
      "Processing Record | hervey bay\n",
      "Processing Record | kolarovo\n",
      "Processing Record | port macquarie\n",
      "Processing Record | tabiauea\n",
      "City not found, Skipping...\n",
      "Processing Record | calabozo\n",
      "Processing Record | mwense\n",
      "Processing Record | nabire\n",
      "Processing Record | maues\n",
      "Processing Record | saldanha\n",
      "Processing Record | antofagasta\n",
      "Processing Record | nuuk\n",
      "Processing Record | kavaratti\n",
      "Processing Record | brunsbuttel\n",
      "Processing Record | ust-maya\n",
      "Processing Record | bansgaon\n",
      "Processing Record | alofi\n",
      "Processing Record | garowe\n",
      "Processing Record | cidreira\n",
      "Processing Record | amarante do maranhao\n",
      "Processing Record | egvekinot\n",
      "Processing Record | edd\n",
      "Processing Record | osmena\n",
      "Processing Record | chifeng\n",
      "Processing Record | kutoarjo\n",
      "Processing Record | plainview\n",
      "Processing Record | khani\n",
      "Processing Record | igurubi\n",
      "Processing Record | shache\n",
      "Processing Record | gornopravdinsk\n",
      "Processing Record | cottonwood\n",
      "Processing Record | nantucket\n",
      "Processing Record | ishinomaki\n",
      "Processing Record | lompoc\n",
      "Processing Record | karaton\n",
      "Processing Record | kamenskoye\n",
      "City not found, Skipping...\n",
      "Processing Record | birsk\n",
      "Processing Record | jidvei\n",
      "Processing Record | victoria\n",
      "Processing Record | middelkerke\n",
      "Processing Record | sesheke\n",
      "Processing Record | ende\n",
      "Processing Record | long beach\n",
      "Processing Record | iqaluit\n",
      "Processing Record | beloha\n",
      "Processing Record | phatthalung\n",
      "Processing Record | jamestown\n",
      "Processing Record | gimli\n",
      "Processing Record | maulvi bazar\n",
      "City not found, Skipping...\n",
      "Processing Record | nome\n",
      "Processing Record | atasu\n",
      "Processing Record | tigil\n",
      "Processing Record | flinders\n",
      "Processing Record | suoyarvi\n",
      "Processing Record | abu dhabi\n",
      "Processing Record | lalibela\n",
      "Processing Record | toktogul\n",
      "Processing Record | hadejia\n",
      "Processing Record | carmelo\n",
      "Processing Record | zabid\n",
      "Processing Record | birao\n",
      "Processing Record | college\n",
      "Processing Record | betanzos\n",
      "Processing Record | balykshi\n",
      "Processing Record | dondo\n",
      "Processing Record | mangrol\n",
      "Processing Record | nyurba\n",
      "Processing Record | san fernando\n",
      "Processing Record | salinopolis\n",
      "Processing Record | mogadishu\n",
      "Processing Record | chapais\n",
      "Processing Record | norman wells\n",
      "Processing Record | hirtshals\n",
      "Processing Record | beringovskiy\n",
      "Processing Record | progreso\n",
      "Processing Record | urdzhar\n",
      "City not found, Skipping...\n",
      "Processing Record | haibowan\n",
      "City not found, Skipping...\n",
      "Processing Record | kaitangata\n",
      "Processing Record | sao gabriel da cachoeira\n",
      "Processing Record | sorong\n",
      "Processing Record | cherskiy\n",
      "Processing Record | batagay\n",
      "Processing Record | bengkulu\n",
      "Processing Record | benghazi\n",
      "Processing Record | tiznit\n",
      "Processing Record | vila franca do campo\n",
      "Processing Record | torbay\n",
      "Processing Record | kouango\n",
      "Processing Record | diu\n",
      "Processing Record | mackay\n",
      "Processing Record | beckley\n",
      "Processing Record | kailua\n",
      "Processing Record | nyimba\n",
      "Processing Record | berlevag\n",
      "Processing Record | kichera\n",
      "Processing Record | waipawa\n",
      "Processing Record | catuday\n",
      "Processing Record | severnyy\n",
      "Processing Record | surin\n",
      "Processing Record | barmer\n",
      "Processing Record | nsanje\n",
      "Processing Record | biltine\n",
      "Processing Record | almora\n",
      "Processing Record | thinadhoo\n",
      "Processing Record | vadlapudi\n",
      "Processing Record | bilma\n",
      "Processing Record | marawi\n",
      "Processing Record | sandwick\n",
      "Processing Record | ust-kamchatsk\n",
      "City not found, Skipping...\n",
      "Processing Record | ormara\n",
      "Processing Record | kruisfontein\n",
      "Processing Record | waconia\n",
      "Processing Record | shymkent\n",
      "Processing Record | carire\n",
      "Processing Record | boca do acre\n",
      "Processing Record | xiamen\n",
      "Processing Record | pechora\n",
      "Processing Record | soyo\n",
      "Processing Record | codrington\n",
      "Processing Record | mae sot\n",
      "Processing Record | ostrovskoye\n",
      "Processing Record | contamana\n",
      "Processing Record | livada\n",
      "Processing Record | lagos\n",
      "Processing Record | mahibadhoo\n",
      "Processing Record | walvis bay\n",
      "Processing Record | maykor\n",
      "Processing Record | mpongwe\n",
      "Processing Record | huarmey\n",
      "Processing Record | amapa\n",
      "Processing Record | balabac\n",
      "Processing Record | araguaina\n",
      "Processing Record | inhambane\n",
      "Processing Record | tahta\n",
      "Processing Record | gorno-chuyskiy\n",
      "City not found, Skipping...\n",
      "Processing Record | narwar\n",
      "Processing Record | tommot\n",
      "Processing Record | dingle\n",
      "Processing Record | jalu\n",
      "Processing Record | gazli\n",
      "Processing Record | saint-francois\n",
      "Processing Record | hambantota\n",
      "Processing Record | meyungs\n",
      "City not found, Skipping...\n",
      "Processing Record | alice springs\n",
      "Processing Record | buraydah\n",
      "Processing Record | jacmel\n",
      "Processing Record | elmira\n",
      "Processing Record | slave lake\n",
      "Processing Record | aryanah\n",
      "Processing Record | tumannyy\n",
      "City not found, Skipping...\n",
      "Processing Record | port lincoln\n",
      "Processing Record | lavrentiya\n",
      "Processing Record | solhan\n",
      "Processing Record | paris\n",
      "Processing Record | kuche\n",
      "City not found, Skipping...\n",
      "Processing Record | matara\n",
      "Processing Record | tuatapere\n",
      "Processing Record | sharjah\n",
      "Processing Record | sakakah\n",
      "Processing Record | zemio\n",
      "Processing Record | ailigandi\n",
      "Processing Record | tura\n",
      "Processing Record | cheuskiny\n",
      "City not found, Skipping...\n",
      "Processing Record | belyy yar\n",
      "Processing Record | poum\n",
      "Processing Record | goksun\n",
      "Processing Record | jinzhou\n",
      "Processing Record | lavumisa\n",
      "Processing Record | la cruz\n",
      "Processing Record | leh\n",
      "Processing Record | agdam\n",
      "Processing Record | koshurnikovo\n",
      "Processing Record | faanui\n",
      "Processing Record | horta\n",
      "Processing Record | margate\n",
      "Processing Record | rawson\n",
      "Processing Record | mwingi\n",
      "Processing Record | rabak\n",
      "Processing Record | afmadu\n",
      "City not found, Skipping...\n",
      "Processing Record | usinsk\n",
      "Processing Record | yulara\n",
      "Processing Record | kyabe\n",
      "Processing Record | pangnirtung\n",
      "Processing Record | kuminskiy\n",
      "Processing Record | tendukheda\n",
      "Processing Record | bandarbeyla\n",
      "Processing Record | abnub\n",
      "Processing Record | chake chake\n",
      "Processing Record | marsh harbour\n",
      "Processing Record | acajutla\n",
      "Processing Record | bokspits\n",
      "City not found, Skipping...\n",
      "Processing Record | kasongo-lunda\n"
     ]
    },
    {
     "name": "stdout",
     "output_type": "stream",
     "text": [
      "Processing Record | plouzane\n",
      "Processing Record | sabirabad\n",
      "Processing Record | merauke\n",
      "Processing Record | canta\n",
      "Processing Record | monte alegre\n",
      "Processing Record | benjamin aceval\n",
      "Processing Record | petauke\n",
      "Processing Record | leningradskiy\n",
      "Processing Record | varenikovskaya\n",
      "Processing Record | lappeenranta\n",
      "Processing Record | santa maria\n",
      "Processing Record | galveston\n",
      "Processing Record | yakeshi\n",
      "Processing Record | bay roberts\n",
      "Processing Record | yakovlevka\n",
      "Processing Record | we\n",
      "City not found, Skipping...\n",
      "Processing Record | mrakovo\n",
      "Processing Record | clarence town\n",
      "Processing Record | san pedro\n",
      "Processing Record | kiunga\n",
      "Processing Record | nizip\n",
      "Processing Record | pingxiang\n",
      "Processing Record | isangel\n",
      "Processing Record | sioux city\n",
      "Processing Record | henties bay\n",
      "Processing Record | komsomolskiy\n",
      "Processing Record | pisco\n",
      "Processing Record | imaculada\n",
      "Processing Record | rungata\n",
      "City not found, Skipping...\n",
      "Processing Record | chumikan\n",
      "Processing Record | kattivakkam\n",
      "Processing Record | harper\n",
      "Processing Record | djougou\n",
      "Processing Record | tidore\n",
      "City not found, Skipping...\n",
      "Processing Record | west lafayette\n",
      "Processing Record | pangody\n",
      "Processing Record | karla\n",
      "Processing Record | warrnambool\n",
      "Processing Record | salta\n",
      "Processing Record | rantauprapat\n",
      "Processing Record | kjollefjord\n",
      "Processing Record | kabompo\n",
      "Processing Record | luwuk\n",
      "Processing Record | inongo\n",
      "Processing Record | marzuq\n",
      "Processing Record | zyryanka\n",
      "Processing Record | ondangwa\n",
      "Processing Record | dongsheng\n",
      "Processing Record | quibdo\n",
      "Processing Record | sitka\n",
      "Processing Record | port hedland\n",
      "Processing Record | moratuwa\n",
      "Processing Record | gornozavodsk\n",
      "Processing Record | karasjok\n",
      "Processing Record | awjilah\n",
      "Processing Record | agirish\n",
      "Processing Record | hirara\n",
      "Processing Record | trebinje\n",
      "Processing Record | taywarah\n",
      "Processing Record | bhatapara\n",
      "Processing Record | bogovinje\n",
      "Processing Record | saint-junien\n",
      "Processing Record | clyde river\n",
      "Processing Record | el llano\n",
      "Processing Record | san carlos de bariloche\n",
      "Processing Record | pilao arcado\n",
      "City not found, Skipping...\n",
      "Processing Record | ketchikan\n",
      "Processing Record | maneadero\n",
      "Processing Record | bojnurd\n",
      "Processing Record | high prairie\n",
      "Processing Record | christchurch\n",
      "Processing Record | tougan\n",
      "Processing Record | odweyne\n",
      "Processing Record | buala\n",
      "Processing Record | erice\n",
      "Processing Record | dhankuta\n",
      "Processing Record | goderich\n",
      "Processing Record | acarau\n",
      "Processing Record | hermiston\n",
      "Processing Record | verkh-usugli\n",
      "Processing Record | dongtai\n",
      "Processing Record | muros\n",
      "Processing Record | coyula\n",
      "Processing Record | rolim de moura\n",
      "City not found, Skipping...\n",
      "Processing Record | kibala\n",
      "Processing Record | road town\n",
      "Processing Record | prado\n",
      "Processing Record | shatrovo\n",
      "Processing Record | dhandhuka\n",
      "Processing Record | meulaboh\n",
      "Processing Record | lalomanu\n",
      "City not found, Skipping...\n",
      "Processing Record | iberia\n",
      "Processing Record | williston\n",
      "Processing Record | juneau\n",
      "Processing Record | pa sang\n",
      "Processing Record | kawalu\n",
      "Processing Record | galle\n",
      "Processing Record | san\n",
      "Processing Record | sentjur\n",
      "Processing Record | pacific grove\n",
      "Processing Record | greeley\n",
      "Processing Record | jinchengjiang\n",
      "City not found, Skipping...\n",
      "Processing Record | mayo\n",
      "Processing Record | umrala\n",
      "Processing Record | port hardy\n",
      "Processing Record | muisne\n",
      "Processing Record | shimoda\n",
      "Processing Record | laredo\n",
      "Processing Record | itoman\n",
      "Processing Record | shelburne\n",
      "Processing Record | kandiari\n",
      "Processing Record | mitu\n",
      "Processing Record | shalya\n",
      "Processing Record | huilong\n",
      "Processing Record | nizhniy tsasuchey\n",
      "-----------------\n",
      "Data Complete\n",
      "-----------------\n"
     ]
    }
   ],
   "source": [
    "url = \"http://api.openweathermap.org/data/2.5/weather?q=\"\n",
    "\n",
    "query = f\"{url+city}&units=imperial&appid={weather_api_key}\"\n",
    "\n",
    "lat=[]\n",
    "lon=[]\n",
    "max_temp=[]\n",
    "humidity=[]\n",
    "clouds=[]\n",
    "wind=[]\n",
    "country=[]\n",
    "date=[]\n",
    "citiesit=[]\n",
    "\n",
    "for city in cities:\n",
    "    \n",
    "    query = f\"{url+city}&units=imperial&appid={weather_api_key}\"\n",
    "    \n",
    "    print(f\"Processing Record | {city}\")\n",
    "    \n",
    "    response=requests.get(query).json()\n",
    "    \n",
    "    try:\n",
    "        lat.append(response[\"coord\"][\"lat\"])\n",
    "        lon.append(response[\"coord\"][\"lon\"])\n",
    "        max_temp.append(response[\"main\"][\"temp\"])\n",
    "        humidity.append(response[\"main\"][\"humidity\"])\n",
    "        clouds.append(response[\"clouds\"][\"all\"])\n",
    "        wind.append(response[\"wind\"][\"speed\"])\n",
    "        country.append(response[\"sys\"][\"country\"])\n",
    "        date.append(response[\"dt\"])\n",
    "        citiesit.append(response[\"name\"])\n",
    "        \n",
    "    except(KeyError):\n",
    "        print(\"City not found, Skipping...\")\n",
    "        pass\n",
    "    \n",
    "print(\"-----------------\")\n",
    "print(\"Data Complete\")\n",
    "print(\"-----------------\")\n"
   ]
  },
  {
   "cell_type": "markdown",
   "metadata": {},
   "source": [
    "### Convert Raw Data to DataFrame\n",
    "* Export the city data into a .csv.\n",
    "* Display the DataFrame"
   ]
  },
  {
   "cell_type": "code",
   "execution_count": 8,
   "metadata": {},
   "outputs": [
    {
     "data": {
      "text/html": [
       "<div>\n",
       "<style scoped>\n",
       "    .dataframe tbody tr th:only-of-type {\n",
       "        vertical-align: middle;\n",
       "    }\n",
       "\n",
       "    .dataframe tbody tr th {\n",
       "        vertical-align: top;\n",
       "    }\n",
       "\n",
       "    .dataframe thead th {\n",
       "        text-align: right;\n",
       "    }\n",
       "</style>\n",
       "<table border=\"1\" class=\"dataframe\">\n",
       "  <thead>\n",
       "    <tr style=\"text-align: right;\">\n",
       "      <th></th>\n",
       "      <th>City</th>\n",
       "      <th>Lat</th>\n",
       "      <th>Lng</th>\n",
       "      <th>Max Temp</th>\n",
       "      <th>Humidity</th>\n",
       "      <th>Cloudiness</th>\n",
       "      <th>Wind Speed</th>\n",
       "      <th>Country</th>\n",
       "      <th>Date</th>\n",
       "    </tr>\n",
       "  </thead>\n",
       "  <tbody>\n",
       "    <tr>\n",
       "      <th>0</th>\n",
       "      <td>Gouré</td>\n",
       "      <td>13.9835</td>\n",
       "      <td>10.2704</td>\n",
       "      <td>80.62</td>\n",
       "      <td>8</td>\n",
       "      <td>42</td>\n",
       "      <td>8.12</td>\n",
       "      <td>NE</td>\n",
       "      <td>1618713612</td>\n",
       "    </tr>\n",
       "    <tr>\n",
       "      <th>1</th>\n",
       "      <td>Kurchum</td>\n",
       "      <td>48.5722</td>\n",
       "      <td>83.6542</td>\n",
       "      <td>51.91</td>\n",
       "      <td>54</td>\n",
       "      <td>8</td>\n",
       "      <td>6.78</td>\n",
       "      <td>KZ</td>\n",
       "      <td>1618713613</td>\n",
       "    </tr>\n",
       "    <tr>\n",
       "      <th>2</th>\n",
       "      <td>Hermanus</td>\n",
       "      <td>-34.4187</td>\n",
       "      <td>19.2345</td>\n",
       "      <td>71.01</td>\n",
       "      <td>24</td>\n",
       "      <td>0</td>\n",
       "      <td>1.99</td>\n",
       "      <td>ZA</td>\n",
       "      <td>1618713613</td>\n",
       "    </tr>\n",
       "    <tr>\n",
       "      <th>3</th>\n",
       "      <td>Kavieng</td>\n",
       "      <td>-2.5744</td>\n",
       "      <td>150.7967</td>\n",
       "      <td>83.55</td>\n",
       "      <td>73</td>\n",
       "      <td>55</td>\n",
       "      <td>9.98</td>\n",
       "      <td>PG</td>\n",
       "      <td>1618713596</td>\n",
       "    </tr>\n",
       "    <tr>\n",
       "      <th>4</th>\n",
       "      <td>Bacungan</td>\n",
       "      <td>9.9106</td>\n",
       "      <td>118.7022</td>\n",
       "      <td>84.20</td>\n",
       "      <td>74</td>\n",
       "      <td>90</td>\n",
       "      <td>9.22</td>\n",
       "      <td>PH</td>\n",
       "      <td>1618713614</td>\n",
       "    </tr>\n",
       "  </tbody>\n",
       "</table>\n",
       "</div>"
      ],
      "text/plain": [
       "       City      Lat       Lng  Max Temp  Humidity  Cloudiness  Wind Speed  \\\n",
       "0     Gouré  13.9835   10.2704     80.62         8          42        8.12   \n",
       "1   Kurchum  48.5722   83.6542     51.91        54           8        6.78   \n",
       "2  Hermanus -34.4187   19.2345     71.01        24           0        1.99   \n",
       "3   Kavieng  -2.5744  150.7967     83.55        73          55        9.98   \n",
       "4  Bacungan   9.9106  118.7022     84.20        74          90        9.22   \n",
       "\n",
       "  Country        Date  \n",
       "0      NE  1618713612  \n",
       "1      KZ  1618713613  \n",
       "2      ZA  1618713613  \n",
       "3      PG  1618713596  \n",
       "4      PH  1618713614  "
      ]
     },
     "execution_count": 8,
     "metadata": {},
     "output_type": "execute_result"
    }
   ],
   "source": [
    "columns = [\"City\", \"Lat\", \"Lng\", \"Max Temp\", \"Humidity\", \"Cloudiness\", \"Wind Speed\", \"Country\", \"Date\"]\n",
    "series = [citiesit, lat, lon, max_temp, humidity, clouds, wind, country, date]\n",
    "\n",
    "dict = {\"City\":citiesit, \"Lat\":lat, \"Lng\":lon, \"Max Temp\":max_temp, \"Humidity\":humidity, \n",
    "        \"Cloudiness\":clouds, \"Wind Speed\":wind, \"Country\":country, \"Date\":date}\n",
    "\n",
    "city_data = pd.DataFrame(dict)\n",
    "\n",
    "\n",
    "city_data.to_csv(output_path, index=False)\n",
    "city_data.head()"
   ]
  },
  {
   "cell_type": "code",
   "execution_count": 9,
   "metadata": {},
   "outputs": [
    {
     "data": {
      "text/html": [
       "<div>\n",
       "<style scoped>\n",
       "    .dataframe tbody tr th:only-of-type {\n",
       "        vertical-align: middle;\n",
       "    }\n",
       "\n",
       "    .dataframe tbody tr th {\n",
       "        vertical-align: top;\n",
       "    }\n",
       "\n",
       "    .dataframe thead th {\n",
       "        text-align: right;\n",
       "    }\n",
       "</style>\n",
       "<table border=\"1\" class=\"dataframe\">\n",
       "  <thead>\n",
       "    <tr style=\"text-align: right;\">\n",
       "      <th></th>\n",
       "      <th>Lat</th>\n",
       "      <th>Lng</th>\n",
       "      <th>Max Temp</th>\n",
       "      <th>Humidity</th>\n",
       "      <th>Cloudiness</th>\n",
       "      <th>Wind Speed</th>\n",
       "      <th>Date</th>\n",
       "    </tr>\n",
       "  </thead>\n",
       "  <tbody>\n",
       "    <tr>\n",
       "      <th>count</th>\n",
       "      <td>579.000000</td>\n",
       "      <td>579.000000</td>\n",
       "      <td>579.000000</td>\n",
       "      <td>579.000000</td>\n",
       "      <td>579.000000</td>\n",
       "      <td>579.000000</td>\n",
       "      <td>5.790000e+02</td>\n",
       "    </tr>\n",
       "    <tr>\n",
       "      <th>mean</th>\n",
       "      <td>21.267246</td>\n",
       "      <td>19.423648</td>\n",
       "      <td>59.430708</td>\n",
       "      <td>68.053541</td>\n",
       "      <td>52.195164</td>\n",
       "      <td>7.531779</td>\n",
       "      <td>1.618714e+09</td>\n",
       "    </tr>\n",
       "    <tr>\n",
       "      <th>std</th>\n",
       "      <td>32.002057</td>\n",
       "      <td>88.848674</td>\n",
       "      <td>20.821534</td>\n",
       "      <td>22.093202</td>\n",
       "      <td>39.512710</td>\n",
       "      <td>5.199900</td>\n",
       "      <td>1.011893e+02</td>\n",
       "    </tr>\n",
       "    <tr>\n",
       "      <th>min</th>\n",
       "      <td>-54.800000</td>\n",
       "      <td>-179.166700</td>\n",
       "      <td>-6.030000</td>\n",
       "      <td>6.000000</td>\n",
       "      <td>0.000000</td>\n",
       "      <td>0.090000</td>\n",
       "      <td>1.618713e+09</td>\n",
       "    </tr>\n",
       "    <tr>\n",
       "      <th>25%</th>\n",
       "      <td>-3.775600</td>\n",
       "      <td>-58.467900</td>\n",
       "      <td>43.630000</td>\n",
       "      <td>54.500000</td>\n",
       "      <td>8.000000</td>\n",
       "      <td>3.650000</td>\n",
       "      <td>1.618714e+09</td>\n",
       "    </tr>\n",
       "    <tr>\n",
       "      <th>50%</th>\n",
       "      <td>25.208800</td>\n",
       "      <td>27.911600</td>\n",
       "      <td>63.180000</td>\n",
       "      <td>72.000000</td>\n",
       "      <td>58.000000</td>\n",
       "      <td>6.220000</td>\n",
       "      <td>1.618714e+09</td>\n",
       "    </tr>\n",
       "    <tr>\n",
       "      <th>75%</th>\n",
       "      <td>47.633250</td>\n",
       "      <td>85.373450</td>\n",
       "      <td>76.990000</td>\n",
       "      <td>86.000000</td>\n",
       "      <td>90.000000</td>\n",
       "      <td>10.175000</td>\n",
       "      <td>1.618714e+09</td>\n",
       "    </tr>\n",
       "    <tr>\n",
       "      <th>max</th>\n",
       "      <td>78.218600</td>\n",
       "      <td>179.316700</td>\n",
       "      <td>91.990000</td>\n",
       "      <td>100.000000</td>\n",
       "      <td>100.000000</td>\n",
       "      <td>31.250000</td>\n",
       "      <td>1.618714e+09</td>\n",
       "    </tr>\n",
       "  </tbody>\n",
       "</table>\n",
       "</div>"
      ],
      "text/plain": [
       "              Lat         Lng    Max Temp    Humidity  Cloudiness  Wind Speed  \\\n",
       "count  579.000000  579.000000  579.000000  579.000000  579.000000  579.000000   \n",
       "mean    21.267246   19.423648   59.430708   68.053541   52.195164    7.531779   \n",
       "std     32.002057   88.848674   20.821534   22.093202   39.512710    5.199900   \n",
       "min    -54.800000 -179.166700   -6.030000    6.000000    0.000000    0.090000   \n",
       "25%     -3.775600  -58.467900   43.630000   54.500000    8.000000    3.650000   \n",
       "50%     25.208800   27.911600   63.180000   72.000000   58.000000    6.220000   \n",
       "75%     47.633250   85.373450   76.990000   86.000000   90.000000   10.175000   \n",
       "max     78.218600  179.316700   91.990000  100.000000  100.000000   31.250000   \n",
       "\n",
       "               Date  \n",
       "count  5.790000e+02  \n",
       "mean   1.618714e+09  \n",
       "std    1.011893e+02  \n",
       "min    1.618713e+09  \n",
       "25%    1.618714e+09  \n",
       "50%    1.618714e+09  \n",
       "75%    1.618714e+09  \n",
       "max    1.618714e+09  "
      ]
     },
     "execution_count": 9,
     "metadata": {},
     "output_type": "execute_result"
    }
   ],
   "source": [
    "city_data.describe()"
   ]
  },
  {
   "cell_type": "markdown",
   "metadata": {},
   "source": [
    "## Inspect the data and remove the cities where the humidity > 100%.\n",
    "----\n",
    "Skip this step if there are no cities that have humidity > 100%. "
   ]
  },
  {
   "cell_type": "code",
   "execution_count": null,
   "metadata": {},
   "outputs": [],
   "source": []
  },
  {
   "cell_type": "code",
   "execution_count": 10,
   "metadata": {},
   "outputs": [
    {
     "data": {
      "text/plain": [
       "Int64Index([], dtype='int64')"
      ]
     },
     "execution_count": 10,
     "metadata": {},
     "output_type": "execute_result"
    }
   ],
   "source": [
    "#  Get the indices of cities that have humidity over 100%.\n",
    "indexnames = city_data[city_data[\"Humidity\"]>100].index\n",
    "indexnames"
   ]
  },
  {
   "cell_type": "code",
   "execution_count": 11,
   "metadata": {},
   "outputs": [
    {
     "data": {
      "text/html": [
       "<div>\n",
       "<style scoped>\n",
       "    .dataframe tbody tr th:only-of-type {\n",
       "        vertical-align: middle;\n",
       "    }\n",
       "\n",
       "    .dataframe tbody tr th {\n",
       "        vertical-align: top;\n",
       "    }\n",
       "\n",
       "    .dataframe thead th {\n",
       "        text-align: right;\n",
       "    }\n",
       "</style>\n",
       "<table border=\"1\" class=\"dataframe\">\n",
       "  <thead>\n",
       "    <tr style=\"text-align: right;\">\n",
       "      <th></th>\n",
       "      <th>City</th>\n",
       "      <th>Lat</th>\n",
       "      <th>Lng</th>\n",
       "      <th>Max Temp</th>\n",
       "      <th>Humidity</th>\n",
       "      <th>Cloudiness</th>\n",
       "      <th>Wind Speed</th>\n",
       "      <th>Country</th>\n",
       "      <th>Date</th>\n",
       "    </tr>\n",
       "  </thead>\n",
       "  <tbody>\n",
       "    <tr>\n",
       "      <th>0</th>\n",
       "      <td>Gouré</td>\n",
       "      <td>13.9835</td>\n",
       "      <td>10.2704</td>\n",
       "      <td>80.62</td>\n",
       "      <td>8</td>\n",
       "      <td>42</td>\n",
       "      <td>8.12</td>\n",
       "      <td>NE</td>\n",
       "      <td>1618713612</td>\n",
       "    </tr>\n",
       "    <tr>\n",
       "      <th>1</th>\n",
       "      <td>Kurchum</td>\n",
       "      <td>48.5722</td>\n",
       "      <td>83.6542</td>\n",
       "      <td>51.91</td>\n",
       "      <td>54</td>\n",
       "      <td>8</td>\n",
       "      <td>6.78</td>\n",
       "      <td>KZ</td>\n",
       "      <td>1618713613</td>\n",
       "    </tr>\n",
       "    <tr>\n",
       "      <th>2</th>\n",
       "      <td>Hermanus</td>\n",
       "      <td>-34.4187</td>\n",
       "      <td>19.2345</td>\n",
       "      <td>71.01</td>\n",
       "      <td>24</td>\n",
       "      <td>0</td>\n",
       "      <td>1.99</td>\n",
       "      <td>ZA</td>\n",
       "      <td>1618713613</td>\n",
       "    </tr>\n",
       "    <tr>\n",
       "      <th>3</th>\n",
       "      <td>Kavieng</td>\n",
       "      <td>-2.5744</td>\n",
       "      <td>150.7967</td>\n",
       "      <td>83.55</td>\n",
       "      <td>73</td>\n",
       "      <td>55</td>\n",
       "      <td>9.98</td>\n",
       "      <td>PG</td>\n",
       "      <td>1618713596</td>\n",
       "    </tr>\n",
       "    <tr>\n",
       "      <th>4</th>\n",
       "      <td>Bacungan</td>\n",
       "      <td>9.9106</td>\n",
       "      <td>118.7022</td>\n",
       "      <td>84.20</td>\n",
       "      <td>74</td>\n",
       "      <td>90</td>\n",
       "      <td>9.22</td>\n",
       "      <td>PH</td>\n",
       "      <td>1618713614</td>\n",
       "    </tr>\n",
       "    <tr>\n",
       "      <th>...</th>\n",
       "      <td>...</td>\n",
       "      <td>...</td>\n",
       "      <td>...</td>\n",
       "      <td>...</td>\n",
       "      <td>...</td>\n",
       "      <td>...</td>\n",
       "      <td>...</td>\n",
       "      <td>...</td>\n",
       "      <td>...</td>\n",
       "    </tr>\n",
       "    <tr>\n",
       "      <th>574</th>\n",
       "      <td>Kandiari</td>\n",
       "      <td>26.9156</td>\n",
       "      <td>68.5216</td>\n",
       "      <td>89.33</td>\n",
       "      <td>26</td>\n",
       "      <td>3</td>\n",
       "      <td>8.14</td>\n",
       "      <td>PK</td>\n",
       "      <td>1618713857</td>\n",
       "    </tr>\n",
       "    <tr>\n",
       "      <th>575</th>\n",
       "      <td>Mitú</td>\n",
       "      <td>1.1983</td>\n",
       "      <td>-70.1733</td>\n",
       "      <td>71.87</td>\n",
       "      <td>95</td>\n",
       "      <td>100</td>\n",
       "      <td>1.72</td>\n",
       "      <td>CO</td>\n",
       "      <td>1618713858</td>\n",
       "    </tr>\n",
       "    <tr>\n",
       "      <th>576</th>\n",
       "      <td>Shalya</td>\n",
       "      <td>57.2471</td>\n",
       "      <td>58.7298</td>\n",
       "      <td>37.26</td>\n",
       "      <td>80</td>\n",
       "      <td>8</td>\n",
       "      <td>8.46</td>\n",
       "      <td>RU</td>\n",
       "      <td>1618713859</td>\n",
       "    </tr>\n",
       "    <tr>\n",
       "      <th>577</th>\n",
       "      <td>Huilong</td>\n",
       "      <td>31.8111</td>\n",
       "      <td>121.6550</td>\n",
       "      <td>64.40</td>\n",
       "      <td>37</td>\n",
       "      <td>57</td>\n",
       "      <td>3.71</td>\n",
       "      <td>CN</td>\n",
       "      <td>1618713815</td>\n",
       "    </tr>\n",
       "    <tr>\n",
       "      <th>578</th>\n",
       "      <td>Nizhniy Tsasuchey</td>\n",
       "      <td>50.5167</td>\n",
       "      <td>115.1333</td>\n",
       "      <td>60.04</td>\n",
       "      <td>27</td>\n",
       "      <td>96</td>\n",
       "      <td>21.00</td>\n",
       "      <td>RU</td>\n",
       "      <td>1618713859</td>\n",
       "    </tr>\n",
       "  </tbody>\n",
       "</table>\n",
       "<p>579 rows × 9 columns</p>\n",
       "</div>"
      ],
      "text/plain": [
       "                  City      Lat       Lng  Max Temp  Humidity  Cloudiness  \\\n",
       "0                Gouré  13.9835   10.2704     80.62         8          42   \n",
       "1              Kurchum  48.5722   83.6542     51.91        54           8   \n",
       "2             Hermanus -34.4187   19.2345     71.01        24           0   \n",
       "3              Kavieng  -2.5744  150.7967     83.55        73          55   \n",
       "4             Bacungan   9.9106  118.7022     84.20        74          90   \n",
       "..                 ...      ...       ...       ...       ...         ...   \n",
       "574           Kandiari  26.9156   68.5216     89.33        26           3   \n",
       "575               Mitú   1.1983  -70.1733     71.87        95         100   \n",
       "576             Shalya  57.2471   58.7298     37.26        80           8   \n",
       "577            Huilong  31.8111  121.6550     64.40        37          57   \n",
       "578  Nizhniy Tsasuchey  50.5167  115.1333     60.04        27          96   \n",
       "\n",
       "     Wind Speed Country        Date  \n",
       "0          8.12      NE  1618713612  \n",
       "1          6.78      KZ  1618713613  \n",
       "2          1.99      ZA  1618713613  \n",
       "3          9.98      PG  1618713596  \n",
       "4          9.22      PH  1618713614  \n",
       "..          ...     ...         ...  \n",
       "574        8.14      PK  1618713857  \n",
       "575        1.72      CO  1618713858  \n",
       "576        8.46      RU  1618713859  \n",
       "577        3.71      CN  1618713815  \n",
       "578       21.00      RU  1618713859  \n",
       "\n",
       "[579 rows x 9 columns]"
      ]
     },
     "execution_count": 11,
     "metadata": {},
     "output_type": "execute_result"
    }
   ],
   "source": [
    "# Make a new DataFrame equal to the city data to drop all humidity outliers by index.\n",
    "# Passing \"inplace=False\" will make a copy of the city_data DataFrame, which we call \"clean_city_data\".\n",
    "clean_city_data=city_data.drop(indexnames)\n",
    "clean_city_data"
   ]
  },
  {
   "cell_type": "code",
   "execution_count": null,
   "metadata": {},
   "outputs": [],
   "source": [
    "\n"
   ]
  },
  {
   "cell_type": "markdown",
   "metadata": {},
   "source": [
    "## Plotting the Data\n",
    "* Use proper labeling of the plots using plot titles (including date of analysis) and axes labels.\n",
    "* Save the plotted figures as .pngs."
   ]
  },
  {
   "cell_type": "markdown",
   "metadata": {},
   "source": [
    "## Latitude vs. Temperature Plot"
   ]
  },
  {
   "cell_type": "code",
   "execution_count": 15,
   "metadata": {
    "scrolled": true
   },
   "outputs": [
    {
     "data": {
      "image/png": "[encoded data removed]",
      "text/plain": [
       "<Figure size 432x288 with 1 Axes>"
      ]
     },
     "metadata": {
      "needs_background": "light"
     },
     "output_type": "display_data"
    }
   ],
   "source": [
    "plt.scatter(lat, max_temp, marker='o', color='royalblue', edgecolors='black')\n",
    "plt.title('City Latitude vs. Max Temperature')\n",
    "plt.xlabel('Latitude')\n",
    "plt.ylabel('Max Temperature (F)')\n",
    "plt.grid()\n",
    "plt.show\n",
    "plt.savefig(\"../output_data/Temp Plot.png\")\n",
    "\n",
    "#The temperature is higher as we get close to the equator(Latitude=0)"
   ]
  },
  {
   "cell_type": "markdown",
   "metadata": {},
   "source": [
    "## Latitude vs. Humidity Plot"
   ]
  },
  {
   "cell_type": "code",
   "execution_count": 16,
   "metadata": {},
   "outputs": [
    {
     "data": {
      "image/png": "[encoded data removed]",
      "text/plain": [
       "<Figure size 432x288 with 1 Axes>"
      ]
     },
     "metadata": {
      "needs_background": "light"
     },
     "output_type": "display_data"
    }
   ],
   "source": [
    "plt.scatter(lat, humidity, marker='o', color='royalblue', edgecolors='black')\n",
    "plt.title('City Latitude vs. Humidity')\n",
    "plt.xlabel('Latitude')\n",
    "plt.ylabel('Humidity')\n",
    "plt.grid()\n",
    "plt.show\n",
    "plt.savefig(\"../output_data/Humidity Plot.png\")\n",
    "\n",
    "#The humidity values tend to be higher closer to the equator "
   ]
  },
  {
   "cell_type": "markdown",
   "metadata": {},
   "source": [
    "## Latitude vs. Cloudiness Plot"
   ]
  },
  {
   "cell_type": "code",
   "execution_count": 17,
   "metadata": {},
   "outputs": [
    {
     "data": {
      "image/png": "[encoded data removed]",
      "text/plain": [
       "<Figure size 432x288 with 1 Axes>"
      ]
     },
     "metadata": {
      "needs_background": "light"
     },
     "output_type": "display_data"
    }
   ],
   "source": [
    "plt.scatter(lat, clouds, marker='o', color='royalblue', edgecolors='black')\n",
    "plt.title('City Latitude vs. Cloudiness')\n",
    "plt.xlabel('Latitude')\n",
    "plt.ylabel('Cloudiness')\n",
    "plt.grid()\n",
    "plt.show\n",
    "plt.savefig(\"../output_data/Cloudiness Plot.png\")\n",
    "\n",
    "#There doesn't seem to be much of a trend as far as cloudiness and latitude"
   ]
  },
  {
   "cell_type": "markdown",
   "metadata": {},
   "source": [
    "## Latitude vs. Wind Speed Plot"
   ]
  },
  {
   "cell_type": "code",
   "execution_count": 18,
   "metadata": {},
   "outputs": [
    {
     "data": {
      "image/png": "[encoded data removed]",
      "text/plain": [
       "<Figure size 432x288 with 1 Axes>"
      ]
     },
     "metadata": {
      "needs_background": "light"
     },
     "output_type": "display_data"
    }
   ],
   "source": [
    "plt.scatter(lat, wind, marker='o', color='royalblue', edgecolors='black')\n",
    "plt.title('City Latitude vs. Wind Speed')\n",
    "plt.xlabel('Latitude')\n",
    "plt.ylabel('Wind Speed')\n",
    "plt.grid()\n",
    "plt.show\n",
    "plt.savefig(\"../output_data/Wind SpeedPlot.png\")\n",
    "\n",
    "#Same as Cloudiness, wind speed seems pretty uniform"
   ]
  },
  {
   "cell_type": "markdown",
   "metadata": {},
   "source": [
    "## Linear Regression"
   ]
  },
  {
   "cell_type": "code",
   "execution_count": 21,
   "metadata": {},
   "outputs": [],
   "source": [
    "indexnamesn = clean_city_data[clean_city_data[\"Lat\"]>=0].index\n",
    "indexnamess = clean_city_data[clean_city_data[\"Lat\"]<0].index\n",
    "\n",
    "n_hem = pd.DataFrame(clean_city_data)\n",
    "n_hem = n_hem.drop(indexnamess) \n",
    "s_hem = pd.DataFrame(clean_city_data)\n",
    "s_hem = s_hem.drop(indexnamesn)"
   ]
  },
  {
   "cell_type": "markdown",
   "metadata": {},
   "source": [
    "####  Northern Hemisphere - Max Temp vs. Latitude Linear Regression"
   ]
  },
  {
   "cell_type": "code",
   "execution_count": 22,
   "metadata": {},
   "outputs": [
    {
     "name": "stdout",
     "output_type": "stream",
     "text": [
      "The r-value is: 0.7975191494349042\n"
     ]
    },
    {
     "data": {
      "image/png": "[encoded data removed]",
      "text/plain": [
       "<Figure size 432x288 with 1 Axes>"
      ]
     },
     "metadata": {
      "needs_background": "light"
     },
     "output_type": "display_data"
    },
    {
     "data": {
      "text/plain": [
       "<Figure size 432x288 with 0 Axes>"
      ]
     },
     "metadata": {},
     "output_type": "display_data"
    }
   ],
   "source": [
    "x = n_hem['Lat']\n",
    "y = n_hem['Max Temp']\n",
    "(slope, intercept, rvalue, pvalue, stderr) = linregress(x, y)\n",
    "regress_values = x * slope + intercept\n",
    "line_eq = \"y = \" + str(round(slope,2)) + \"x + \" + str(round(intercept,2))\n",
    "plt.scatter(x, y)\n",
    "plt.plot(x,regress_values,\"r-\")\n",
    "plt.xlabel('Latitude')\n",
    "plt.ylabel('Max Temp')\n",
    "print(f\"The r-value is: {rvalue**2}\")\n",
    "plt.show()\n",
    "\n",
    "#In the Northern Hemisphere there is a negative correlation between Temperature and Latitude"
   ]
  },
  {
   "cell_type": "markdown",
   "metadata": {},
   "source": [
    "####  Southern Hemisphere - Max Temp vs. Latitude Linear Regression"
   ]
  },
  {
   "cell_type": "code",
   "execution_count": 23,
   "metadata": {},
   "outputs": [
    {
     "name": "stdout",
     "output_type": "stream",
     "text": [
      "The r-value is: 0.3567348083961786\n"
     ]
    },
    {
     "data": {
      "image/png": "[encoded data removed]",
      "text/plain": [
       "<Figure size 432x288 with 1 Axes>"
      ]
     },
     "metadata": {
      "needs_background": "light"
     },
     "output_type": "display_data"
    },
    {
     "data": {
      "text/plain": [
       "<Figure size 432x288 with 0 Axes>"
      ]
     },
     "metadata": {},
     "output_type": "display_data"
    }
   ],
   "source": [
    "x = s_hem['Lat']\n",
    "y = s_hem['Max Temp']\n",
    "(slope, intercept, rvalue, pvalue, stderr) = linregress(x, y)\n",
    "regress_values = x * slope + intercept\n",
    "line_eq = \"y = \" + str(round(slope,2)) + \"x + \" + str(round(intercept,2))\n",
    "plt.scatter(x, y)\n",
    "plt.plot(x,regress_values,\"r-\")\n",
    "plt.xlabel('Latitude')\n",
    "plt.ylabel('Max Temp')\n",
    "print(f\"The r-value is: {rvalue**2}\")\n",
    "plt.show()\n",
    "\n",
    "#In the Southern Hemisphere there is a positve correlation between Temperature and Latitude"
   ]
  },
  {
   "cell_type": "markdown",
   "metadata": {},
   "source": [
    "####  Northern Hemisphere - Humidity (%) vs. Latitude Linear Regression"
   ]
  },
  {
   "cell_type": "code",
   "execution_count": 29,
   "metadata": {},
   "outputs": [
    {
     "name": "stdout",
     "output_type": "stream",
     "text": [
      "The r-value is: 0.03197290404082318\n"
     ]
    },
    {
     "data": {
      "image/png": "[encoded data removed]",
      "text/plain": [
       "<Figure size 432x288 with 1 Axes>"
      ]
     },
     "metadata": {
      "needs_background": "light"
     },
     "output_type": "display_data"
    }
   ],
   "source": [
    "x = n_hem['Lat']\n",
    "y = n_hem['Humidity']\n",
    "(slope, intercept, rvalue, pvalue, stderr) = linregress(x, y)\n",
    "regress_values = x * slope + intercept\n",
    "line_eq = \"y = \" + str(round(slope,2)) + \"x + \" + str(round(intercept,2))\n",
    "plt.scatter(x, y)\n",
    "plt.plot(x,regress_values,\"r-\")\n",
    "plt.xlabel('Latitude')\n",
    "plt.ylabel('Humidity')\n",
    "print(f\"The r-value is: {rvalue**2}\")\n",
    "plt.show()\n",
    "\n",
    "#no correlation"
   ]
  },
  {
   "cell_type": "markdown",
   "metadata": {},
   "source": [
    "####  Southern Hemisphere - Humidity (%) vs. Latitude Linear Regression"
   ]
  },
  {
   "cell_type": "code",
   "execution_count": 28,
   "metadata": {},
   "outputs": [
    {
     "name": "stdout",
     "output_type": "stream",
     "text": [
      "The r-value is: 0.12996971543671984\n"
     ]
    },
    {
     "data": {
      "image/png": "[encoded data removed]",
      "text/plain": [
       "<Figure size 432x288 with 1 Axes>"
      ]
     },
     "metadata": {
      "needs_background": "light"
     },
     "output_type": "display_data"
    }
   ],
   "source": [
    "x = s_hem['Lat']\n",
    "y = s_hem['Humidity']\n",
    "(slope, intercept, rvalue, pvalue, stderr) = linregress(x, y)\n",
    "regress_values = x * slope + intercept\n",
    "line_eq = \"y = \" + str(round(slope,2)) + \"x + \" + str(round(intercept,2))\n",
    "plt.scatter(x, y)\n",
    "plt.plot(x,regress_values,\"r-\")\n",
    "plt.xlabel('Latitude')\n",
    "plt.ylabel('Humidity')\n",
    "print(f\"The r-value is: {rvalue**2}\")\n",
    "plt.show()\n",
    "\n",
    "#no correlation"
   ]
  },
  {
   "cell_type": "markdown",
   "metadata": {},
   "source": [
    "####  Northern Hemisphere - Cloudiness (%) vs. Latitude Linear Regression"
   ]
  },
  {
   "cell_type": "code",
   "execution_count": 27,
   "metadata": {},
   "outputs": [
    {
     "name": "stdout",
     "output_type": "stream",
     "text": [
      "The r-value is: 0.006525650256350822\n"
     ]
    },
    {
     "data": {
      "image/png": "[encoded data removed]",
      "text/plain": [
       "<Figure size 432x288 with 1 Axes>"
      ]
     },
     "metadata": {
      "needs_background": "light"
     },
     "output_type": "display_data"
    }
   ],
   "source": [
    "x = n_hem['Lat']\n",
    "y = n_hem['Cloudiness']\n",
    "(slope, intercept, rvalue, pvalue, stderr) = linregress(x, y)\n",
    "regress_values = x * slope + intercept\n",
    "line_eq = \"y = \" + str(round(slope,2)) + \"x + \" + str(round(intercept,2))\n",
    "plt.scatter(x, y)\n",
    "plt.plot(x,regress_values,\"r-\")\n",
    "plt.xlabel('Latitude')\n",
    "plt.ylabel('Cloudiness')\n",
    "print(f\"The r-value is: {rvalue**2}\")\n",
    "plt.show()\n",
    "\n",
    "#no correlation"
   ]
  },
  {
   "cell_type": "markdown",
   "metadata": {},
   "source": [
    "####  Southern Hemisphere - Cloudiness (%) vs. Latitude Linear Regression"
   ]
  },
  {
   "cell_type": "code",
   "execution_count": 26,
   "metadata": {},
   "outputs": [
    {
     "name": "stdout",
     "output_type": "stream",
     "text": [
      "The r-value is: 0.11809961830975728\n"
     ]
    },
    {
     "data": {
      "image/png": "[encoded data removed]",
      "text/plain": [
       "<Figure size 432x288 with 1 Axes>"
      ]
     },
     "metadata": {
      "needs_background": "light"
     },
     "output_type": "display_data"
    }
   ],
   "source": [
    "x = s_hem['Lat']\n",
    "y = s_hem['Cloudiness']\n",
    "(slope, intercept, rvalue, pvalue, stderr) = linregress(x, y)\n",
    "regress_values = x * slope + intercept\n",
    "line_eq = \"y = \" + str(round(slope,2)) + \"x + \" + str(round(intercept,2))\n",
    "plt.scatter(x, y)\n",
    "plt.plot(x,regress_values,\"r-\")\n",
    "plt.xlabel('Latitude')\n",
    "plt.ylabel('Cloudiness')\n",
    "print(f\"The r-value is: {rvalue**2}\")\n",
    "plt.show()\n",
    "\n",
    "#no correlation"
   ]
  },
  {
   "cell_type": "markdown",
   "metadata": {},
   "source": [
    "####  Northern Hemisphere - Wind Speed (mph) vs. Latitude Linear Regression"
   ]
  },
  {
   "cell_type": "code",
   "execution_count": 25,
   "metadata": {},
   "outputs": [
    {
     "name": "stdout",
     "output_type": "stream",
     "text": [
      "The r-value is: 0.028374674162709813\n"
     ]
    },
    {
     "data": {
      "image/png": "[encoded data removed]",
      "text/plain": [
       "<Figure size 432x288 with 1 Axes>"
      ]
     },
     "metadata": {
      "needs_background": "light"
     },
     "output_type": "display_data"
    }
   ],
   "source": [
    "x = n_hem['Lat']\n",
    "y = n_hem['Wind Speed']\n",
    "(slope, intercept, rvalue, pvalue, stderr) = linregress(x, y)\n",
    "regress_values = x * slope + intercept\n",
    "line_eq = \"y = \" + str(round(slope,2)) + \"x + \" + str(round(intercept,2))\n",
    "plt.scatter(x, y)\n",
    "plt.plot(x,regress_values,\"r-\")\n",
    "plt.xlabel('Latitude')\n",
    "plt.ylabel('Wind Speed')\n",
    "print(f\"The r-value is: {rvalue**2}\")\n",
    "plt.show()\n",
    "\n",
    "#no correlation"
   ]
  },
  {
   "cell_type": "markdown",
   "metadata": {},
   "source": [
    "####  Southern Hemisphere - Wind Speed (mph) vs. Latitude Linear Regression"
   ]
  },
  {
   "cell_type": "code",
   "execution_count": 24,
   "metadata": {
    "scrolled": true
   },
   "outputs": [
    {
     "name": "stdout",
     "output_type": "stream",
     "text": [
      "The r-value is: 0.07264610807838061\n"
     ]
    },
    {
     "data": {
      "image/png": "[encoded data removed]",
      "text/plain": [
       "<Figure size 432x288 with 1 Axes>"
      ]
     },
     "metadata": {
      "needs_background": "light"
     },
     "output_type": "display_data"
    }
   ],
   "source": [
    "x = s_hem['Lat']\n",
    "y = s_hem['Wind Speed']\n",
    "(slope, intercept, rvalue, pvalue, stderr) = linregress(x, y)\n",
    "regress_values = x * slope + intercept\n",
    "line_eq = \"y = \" + str(round(slope,2)) + \"x + \" + str(round(intercept,2))\n",
    "plt.scatter(x, y)\n",
    "plt.plot(x,regress_values,\"r-\")\n",
    "plt.xlabel('Latitude')\n",
    "plt.ylabel('Wind Speed')\n",
    "print(f\"The r-value is: {rvalue**2}\")\n",
    "plt.show()\n",
    "\n",
    "#no correlation"
   ]
  },
  {
   "cell_type": "code",
   "execution_count": null,
   "metadata": {},
   "outputs": [],
   "source": []
  }
 ],
 "metadata": {
  "anaconda-cloud": {},
  "kernel_info": {
   "name": "python3"
  },
  "kernelspec": {
   "display_name": "Python 3",
   "language": "python",
   "name": "python3"
  },
  "language_info": {
   "codemirror_mode": {
    "name": "ipython",
    "version": 3
   },
   "file_extension": ".py",
   "mimetype": "text/x-python",
   "name": "python",
   "nbconvert_exporter": "python",
   "pygments_lexer": "ipython3",
   "version": "3.8.5"
  },
  "latex_envs": {
   "LaTeX_envs_menu_present": true,
   "autoclose": false,
   "autocomplete": true,
   "bibliofile": "biblio.bib",
   "cite_by": "apalike",
   "current_citInitial": 1,
   "eqLabelWithNumbers": true,
   "eqNumInitial": 1,
   "hotkeys": {
    "equation": "Ctrl-E",
    "itemize": "Ctrl-I"
   },
   "labels_anchors": false,
   "latex_user_defs": false,
   "report_style_numbering": false,
   "user_envs_cfg": false
  },
  "nteract": {
   "version": "0.12.3"
  }
 },
 "nbformat": 4,
 "nbformat_minor": 2
}
